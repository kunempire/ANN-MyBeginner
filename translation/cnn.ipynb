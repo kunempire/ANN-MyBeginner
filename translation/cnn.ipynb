{
 "cells": [
  {
   "cell_type": "markdown",
   "metadata": {},
   "source": [
    "本notebook的CNN模型是只是在基本的CNN网络上加了一层嵌入结构"
   ]
  },
  {
   "cell_type": "markdown",
   "metadata": {},
   "source": [
    "## 1、导入相关包"
   ]
  },
  {
   "cell_type": "code",
   "execution_count": 1,
   "metadata": {
    "execution": {
     "iopub.execute_input": "2022-07-20T05:27:24.351652Z",
     "iopub.status.busy": "2022-07-20T05:27:24.350929Z",
     "iopub.status.idle": "2022-07-20T05:27:26.428062Z",
     "shell.execute_reply": "2022-07-20T05:27:26.426855Z",
     "shell.execute_reply.started": "2022-07-20T05:27:24.351608Z"
    },
    "scrolled": true,
    "tags": []
   },
   "outputs": [
    {
     "name": "stderr",
     "output_type": "stream",
     "text": [
      "/root/miniconda3/envs/paddle/lib/python3.8/site-packages/setuptools/sandbox.py:13: DeprecationWarning: pkg_resources is deprecated as an API. See https://setuptools.pypa.io/en/latest/pkg_resources.html\n",
      "  import pkg_resources\n",
      "/root/miniconda3/envs/paddle/lib/python3.8/site-packages/pkg_resources/__init__.py:2871: DeprecationWarning: Deprecated call to `pkg_resources.declare_namespace('mpl_toolkits')`.\n",
      "Implementing implicit namespace packages (as specified in PEP 420) is preferred to `pkg_resources.declare_namespace`. See https://setuptools.pypa.io/en/latest/references/keywords.html#keyword-namespace-packages\n",
      "  declare_namespace(pkg)\n",
      "/root/miniconda3/envs/paddle/lib/python3.8/site-packages/pkg_resources/__init__.py:2871: DeprecationWarning: Deprecated call to `pkg_resources.declare_namespace('google')`.\n",
      "Implementing implicit namespace packages (as specified in PEP 420) is preferred to `pkg_resources.declare_namespace`. See https://setuptools.pypa.io/en/latest/references/keywords.html#keyword-namespace-packages\n",
      "  declare_namespace(pkg)\n"
     ]
    }
   ],
   "source": [
    "import os\n",
    "from tqdm import tqdm\n",
    "# 数据科学包\n",
    "import random                      # 随机切分数据集\n",
    "import numpy as np                 # 常用数据科学包\n",
    "import pandas as pd              # 图像读取\n",
    "import matplotlib.pyplot as plt    # 代码中快速验证\n",
    "import cv2                         # 图像包\n",
    "\n",
    "# 深度学习包\n",
    "import paddle\n",
    "import paddle.vision.transforms as tf      # 数据增强\n",
    "from paddle.io import Dataset, DataLoader  # 定义数据集\n",
    "import paddle.nn as nn                     # 网络"
   ]
  },
  {
   "cell_type": "markdown",
   "metadata": {},
   "source": [
    "## 2、准备数据集"
   ]
  },
  {
   "cell_type": "markdown",
   "metadata": {},
   "source": [
    "处理数据集"
   ]
  },
  {
   "cell_type": "markdown",
   "metadata": {},
   "source": [
    "## 3、准备网络模型"
   ]
  },
  {
   "cell_type": "markdown",
   "metadata": {},
   "source": [
    "搭建网络"
   ]
  },
  {
   "cell_type": "code",
   "execution_count": 2,
   "metadata": {},
   "outputs": [
    {
     "name": "stderr",
     "output_type": "stream",
     "text": [
      "W1229 12:32:18.332525 74843 gpu_resources.cc:61] Please NOTE: device: 0, GPU Compute Capability: 8.0, Driver API Version: 12.2, Runtime API Version: 11.7\n",
      "W1229 12:32:18.340533 74843 gpu_resources.cc:91] device: 0, cuDNN Version: 8.5.\n"
     ]
    }
   ],
   "source": [
    "# 定义CNN模型：随机嵌入\n",
    "class ModifiedCNN(nn.Layer):\n",
    "    def __init__(self, vocab_size, embedding_dim, hidden_dim, kernel_size, output_size, maxlength):\n",
    "        super().__init__()\n",
    "        self.embed = nn.Embedding(vocab_size, embedding_dim, padding_idx=0)\n",
    "        self.cnn = nn.Conv1D(embedding_dim, hidden_dim, kernel_size)\n",
    "        self.maxpool = nn.MaxPool1D(maxlength - kernel_size + 1)\n",
    "        self.bi_lstm = nn.LSTM(hidden_dim, hidden_dim // 2, num_layers=1, direction='bidirectional')\n",
    "        self.dense = nn.Sequential(nn.Dropout(0.3), nn.Linear(hidden_dim, output_size))\n",
    "\n",
    "    def forward(self, x):\n",
    "        embed_x = self.embed(x)\n",
    "        cnn_x = self.cnn(embed_x.transpose((0, 2, 1)))\n",
    "        pool_x = self.maxpool(cnn_x)\n",
    "        lstm_out, _ = self.bi_lstm(pool_x.squeeze(-1).transpose((0, 2, 1)))  # Transpose input for PaddlePaddle LSTM\n",
    "        out = self.dense(lstm_out[:, -1, :])  # Take the output of the last time step\n",
    "        return out\n",
    "\n",
    "\n",
    "# 定义模型\n",
    "vocab_size = 10000 # 词汇数量\n",
    "embedding_dim = 1024 # 词嵌入维度\n",
    "hidden_dim = 128 # 隐藏层维度，也就是CNN网络层卷积核的个数\n",
    "kernel_size = 3 # 卷积核大小\n",
    "output_size = 14  # 分类的类别数\n",
    "maxlength = 30  # 新闻标题的最大长度\n",
    "\n",
    "model = ModifiedCNN(vocab_size, embedding_dim, hidden_dim, kernel_size, output_size, maxlength)\n"
   ]
  },
  {
   "cell_type": "markdown",
   "metadata": {},
   "source": [
    "查看网络结构"
   ]
  },
  {
   "cell_type": "code",
   "execution_count": 3,
   "metadata": {},
   "outputs": [
    {
     "name": "stdout",
     "output_type": "stream",
     "text": [
      "ModifiedCNN(\n",
      "  (embed): Embedding(10000, 1024, padding_idx=0, sparse=False)\n",
      "  (cnn): Conv1D(1024, 128, kernel_size=[3], data_format=NCL)\n",
      "  (maxpool): MaxPool1D(kernel_size=28, stride=None, padding=0)\n",
      "  (bi_lstm): LSTM(128, 64\n",
      "    (0): BiRNN(\n",
      "      (cell_fw): LSTMCell(128, 64)\n",
      "      (cell_bw): LSTMCell(128, 64)\n",
      "    )\n",
      "  )\n",
      "  (dense): Sequential(\n",
      "    (0): Dropout(p=0.3, axis=None, mode=upscale_in_train)\n",
      "    (1): Linear(in_features=128, out_features=14, dtype=float32)\n",
      "  )\n",
      ")\n"
     ]
    }
   ],
   "source": [
    "# 输出模型结构\n",
    "print(model)\n"
   ]
  },
  {
   "cell_type": "markdown",
   "metadata": {},
   "source": [
    "## 4、模型训练"
   ]
  },
  {
   "cell_type": "markdown",
   "metadata": {},
   "source": [
    "## 5、模型测试"
   ]
  }
 ],
 "metadata": {
  "kernelspec": {
   "display_name": "paddle",
   "language": "python",
   "name": "python3"
  },
  "language_info": {
   "codemirror_mode": {
    "name": "ipython",
    "version": 3
   },
   "file_extension": ".py",
   "mimetype": "text/x-python",
   "name": "python",
   "nbconvert_exporter": "python",
   "pygments_lexer": "ipython3",
   "version": "3.8.18"
  }
 },
 "nbformat": 4,
 "nbformat_minor": 4
}
